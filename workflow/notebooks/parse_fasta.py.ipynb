{
 "cells": [
  {
   "cell_type": "code",
   "execution_count": 1,
   "metadata": {},
   "outputs": [],
   "source": [
    "from Bio import SeqIO\n",
    "import pandas as pd\n",
    "\n",
    "samples_db = snakemake.input\n",
    "new_samples_db = pd.DataFrame(columns = ['location','plant','site','node','length','coverage','fasta'])\n",
    "\n",
    "resources_path = '/Users/margotlavitt/Cal/Fall 23/SimmsAVP/resources/'\n",
    "config_path = '/Users/margotlavitt/Cal/Fall 23/SimmsAVP/config/'"
   ]
  },
  {
   "cell_type": "code",
   "execution_count": 2,
   "metadata": {},
   "outputs": [
    {
     "name": "stdout",
     "output_type": "stream",
     "text": [
      "mkdir: ../resources/RT: File exists\n"
     ]
    }
   ],
   "source": [
    "# iterate through fastas\n",
    "for i in range(len(samples_db)):\n",
    "\trow = samples_db.iloc[i-1,:]\n",
    "\tloc = str(row['location'])\n",
    "\tsite = str(row['site'])\n",
    "\tplant = str(row['plant'])\n",
    "\t!mkdir ../resources/{loc}\n",
    "\n",
    "\tfor node in SeqIO.parse(row['fasta'], 'fasta'):\n",
    "\t\tnode_record = node.id.split('_')\n",
    "\t\tnode_num = node_record[2]\n",
    "\t\tnode_length = node_record[4]\n",
    "\t\tnode_cov = node_record[6]\n",
    "\t\tnode_fasta = resources_path + '/' + loc + '/' + loc + '_' + site + '_' + plant + '_' + node_num + '.fasta'\n",
    "\t\t# node_seq = node.seq\n",
    "\n",
    "\t\tSeqIO.write(node, node_fasta, 'fasta')\n",
    "\n",
    "\t\tnew_row = [loc, site, plant, node_num, node_length, node_cov, node_fasta]\n",
    "\t\tnew_samples_db.loc[-1] = new_row\n",
    "\t\tnew_samples_db.index += 1"
   ]
  },
  {
   "cell_type": "code",
   "execution_count": 3,
   "metadata": {},
   "outputs": [
    {
     "ename": "NameError",
     "evalue": "name 'snakemake' is not defined",
     "output_type": "error",
     "traceback": [
      "\u001b[0;31m---------------------------------------------------------------------------\u001b[0m",
      "\u001b[0;31mNameError\u001b[0m                                 Traceback (most recent call last)",
      "\u001b[1;32m/Users/margotlavitt/Cal/Fall 23/SimmsAVP/notebooks/parse_fasta.ipynb Cell 3\u001b[0m line \u001b[0;36m1\n\u001b[0;32m----> <a href='vscode-notebook-cell:/Users/margotlavitt/Cal/Fall%2023/SimmsAVP/notebooks/parse_fasta.ipynb#W2sZmlsZQ%3D%3D?line=0'>1</a>\u001b[0m new_samples_db\u001b[39m.\u001b[39mto_csv(\u001b[39mstr\u001b[39m(snakemake\u001b[39m.\u001b[39moutput), sep \u001b[39m=\u001b[39m \u001b[39m'\u001b[39m\u001b[39m\\t\u001b[39;00m\u001b[39m'\u001b[39m, index\u001b[39m=\u001b[39m\u001b[39mFalse\u001b[39;00m)\n",
      "\u001b[0;31mNameError\u001b[0m: name 'snakemake' is not defined"
     ]
    }
   ],
   "source": [
    "new_samples_db.to_csv(str(snakemake.output), sep = '\\t', index=False)"
   ]
  }
 ],
 "metadata": {
  "kernelspec": {
   "display_name": "snakemake",
   "language": "python",
   "name": "python3"
  },
  "language_info": {
   "codemirror_mode": {
    "name": "ipython",
    "version": 3
   },
   "file_extension": ".py",
   "mimetype": "text/x-python",
   "name": "python",
   "nbconvert_exporter": "python",
   "pygments_lexer": "ipython3",
   "version": "3.11.6"
  }
 },
 "nbformat": 4,
 "nbformat_minor": 2
}
