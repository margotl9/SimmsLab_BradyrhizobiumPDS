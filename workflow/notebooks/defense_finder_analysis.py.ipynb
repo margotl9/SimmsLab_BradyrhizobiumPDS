{
 "cells": [
  {
   "cell_type": "code",
   "execution_count": null,
   "metadata": {},
   "outputs": [],
   "source": [
    "import pandas as pd\n",
    "import os\n",
    "input_file = str(snakemake.input)\n",
    "df_path = snakemake.params.df_path\n",
    "df_systems_db = pd.read_csv(df_path)\n",
    "input_tsv = pd.read_csv(input_file, sep='\\t')\n",
    "annotated_input = input_tsv.merge(df_systems_db, how = 'left', left_on = 'type', right_on = 'title').drop(columns='title')\n",
    "annotated_input.to_csv(str(snakemake.output), index=True)"
   ]
  }
 ],
 "metadata": {
  "kernelspec": {
   "display_name": "snakemake",
   "language": "python",
   "name": "python3"
  },
  "language_info": {
   "codemirror_mode": {
    "name": "ipython",
    "version": 3
   },
   "file_extension": ".py",
   "mimetype": "text/x-python",
   "name": "python",
   "nbconvert_exporter": "python",
   "pygments_lexer": "ipython3",
   "version": "3.11.6"
  }
 },
 "nbformat": 4,
 "nbformat_minor": 2
}
